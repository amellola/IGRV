{
  "nbformat": 4,
  "nbformat_minor": 0,
  "metadata": {
    "colab": {
      "name": "IGRV_TP2.ipynb",
      "provenance": [],
      "authorship_tag": "ABX9TyPgVoC3w8fsPXkdeMOmLL5+",
      "include_colab_link": true
    },
    "kernelspec": {
      "name": "python3",
      "display_name": "Python 3"
    },
    "language_info": {
      "name": "python"
    }
  },
  "cells": [
    {
      "cell_type": "markdown",
      "metadata": {
        "id": "view-in-github",
        "colab_type": "text"
      },
      "source": [
        "<a href=\"https://colab.research.google.com/github/nounou-mimi/IGRV/blob/main/IGRV_TP2.ipynb\" target=\"_parent\"><img src=\"https://colab.research.google.com/assets/colab-badge.svg\" alt=\"Open In Colab\"/></a>"
      ]
    },
    {
      "cell_type": "markdown",
      "source": [
        "#Algorithme de rendu de scène 3D \n",
        "C'est un procédé permettant de passer d’une scène en trois dimensions à une projection de cette scène sur un écran en deux dimensions "
      ],
      "metadata": {
        "id": "HhJhswXoD852"
      }
    },
    {
      "cell_type": "markdown",
      "source": [
        "#Rastérisation \n",
        "**Le principe**\n",
        "\n",
        "De manière générale notre point dit local (celui placé par rapport à la forme) doit être envoyé dans le monde et donc posséder de nouvelles coordonnées. Une fois dans le monde le point doit être positionné par rapport au repère de la caméra afin de pouvoir être projeté sur l’écran fictif de cette dernière pour enfin êtres positionné par rapport à l’écran de l’utilisateur (ou canevas).\n",
        "Pour passer de repère en repère il faut utiliser des matrices, voici les trois utilisés :\n",
        "\n",
        "* La matrice transformation (T), permettant de passer des coordonnées locales aux coordonnées dans le monde (l’environnement).\n",
        "* La matrice visualisation (V), permettant de passer des coordonnées de l’objet par rapport au monde à celles de l’objet par rapport à la caméra.\n",
        "* La matrice perspective (P), qui permet de « projeter » les coordonnées caméra vers l’écran.\n",
        "Voici l’équation finale de la transformation locale vers écran :\n",
        "![image.png](data:image/png;base64,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)\n"
      ],
      "metadata": {
        "id": "DUCcFuzE9tAg"
      }
    },
    {
      "cell_type": "code",
      "source": [
        "# coding: utf-8\n",
        "\n",
        "#Importations necessaires\n",
        "import numpy as np\n",
        "from numpy.linalg import inv\n",
        "from math import cos, sin, tan, pi, floor, inf\n",
        "from image import Image #Importation bibliothèque image (TP1-Math202)"
      ],
      "metadata": {
        "id": "MAs4x_7jI4JO"
      },
      "execution_count": 9,
      "outputs": []
    },
    {
      "cell_type": "markdown",
      "source": [
        "##1. Local vers monde : La matrice Transformation\n",
        "La matrice transformation (T), permet de passer des coordonnées locales aux coordonnées dans le monde (l’environnement).\n",
        "Cette matrice est le produit des trois matrices suivantes :\n",
        "![image.png](data:image/png;base64,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)\n",
        "* Matrice dilatation : permet de modifier l'échelle de taille de l'objet par rapport à l'axe x,y,z \n",
        "* Matrice rotation : permet de faire tourner l'objet autour des axes x, y, z \n",
        "* Matrice translation : permet d'appliquer une translation à un point de l'objet\n",
        "\n",
        "Ce qui donne : ![image.png](data:image/png;base64,iVBORw0KGgoAAAANSUhEUgAAA/YAAABhCAYAAAB8kzoyAAAgAElEQVR4nO2dz4vcRtrHv51VYDA6mCGI0IdgxLAHE4wwc1jCHETwIQyN0SGYYBYziODDHnwSQw45DmFpfPIh5KQ/4MWHYRlEDssyhyHkIEJjjA/GmOCDME0YhqExhu1svYfpktXd6m5JXVJVqZ8PNIl7ultPPXq+VapfTwEEQRAEQRAEQRBEo4RhyHzfZ7LtINSE4oMgCIIgCIIgCEJh4jhmhmGwOI6p40YsxDRN1u/3KUYIgiAIgiAIgiBUw7Ismo0lVhJFETMMgyVJsjJWOk0YRBAEQRAEQRAEQQCe57F///vfGI1GlftiSZKw+/fv4/T0VLn+HLdtd3cX5+fnOD8/x/HxsVJ2qmBjURtc12UvXrzAcDhUyocEQRAEQRAEQRAbSRRFDACb/Lfyb5imyWzbVnLG3zTNqS0G/X6fOY6jlK0q2FjUhiRJmGEYLAgCpXxIEARBEARBEASxkdi2XblDniQJcxyHeZ7HLMtSsmPv+35u59QwjLUGM0Sigo1lbfB9v/CSfIIgCIIgCIIgCKImwjBce7ae4ziOkh17y7KY53lzdqmUU0AFG6vYYBhG7ncIgiAIgiAIgiCIhjBNk1mWJaRjpmrHHkDuknHHcYSVXQAq2FjahkmnfuGs/UeCDSQIgiAIgiAIgiAyhGHIRqMR/vnPf8o2pTZ4h9OyrLm/Xb9+He/evWvcpllUsLGqDT/++CMA4B//+Efu36ljTxAEQRAEQRAEUSNHR0cwDAO+77c2s3mSJEv//v79+4YsWYwKNla1odvtdhzHwfHxce7fqWNPEARBEARBEARRE3Ecs9evX6PX68k2RRoXFxeyTViJCjausuHRo0cArpLpzf6NOvYEQRAEQRAEQRA1cXR0BAB4+PChZEvqpdvtLvzb5eUltra2GrQmHxVsXMcG3/c7hmHg//7v/+b+1uqOfRiGymRfJMSj8/3V2Xai3egem7rbT7QXnWNTZ9uJdqNLbJ6cnMA0Tezv77d2GT5wtVQcAIbDYe7fr1271qg9eahg47o27O3tYTQaIY5j5WNfCHEcM8Mw2MYUeEMxTZP1+32t7jHFJqE6OuoKIG0R6qOjtkhXhOqorqvJ0XbMdV2hNqqaFV+Fo+RWoYKN69jAj03cmKPvVAoeoj6iKGKGYSw89kFFKDYJ1dFRVwBpi1AfHbVFuiJUR3Vd8SPKJp0xYajasfd9f5FdbDLIIR0VbFzHhkmsM9M0lfBnrXiet7SgcRwz27Zzzw6UTZIkzHVdFgQB831f+kiMCvZwGxb93XVdlc7FXMqq2ARWl1d1VIgZmehU/mWxppOugGLakkGSJMzzPBYEQW2xoFPMFSEMQ2YYhvCHqybuBb/OJrVZqtLU/V4HnWNdRr2ja5s10ZBw2xQ7Fz4lSRJmmubUKp8gCJQahFDBxnVtmNx7ZQe0hMCXu6yqJPkSBtWWls3e4H6/zxzHkWajbHuiKGKmaS4N8iRJmGEYSg7UZCkSm0XKqzqyY0Y2upR/VazpoiugeL3fNEmSMMuy0kaXPwSLvo4uMVcUHpsi72dT92LT2ixVaep+r4vOsd50vaNrm8VnVkV2wD3P475mAJjjOMzzPKU6eHEcKz/grIKN69jAV4KoFvNCsW27cKfIMAylAs33/dxKsY7RXNXtSZIkragsy1p5T33fV3oZFrA8NsuWV1VUi+Gm0aH8ZWJNB10B5er9JrEsa+q+B0Eg/MFXh5hTgbrvxaa1WarThPZUpW31ju5t1mTvv9YrMQk1aX1s8Vn4opWK67rMMAxlnKFCIgcV7Sm6h0i1gZosZWJT1T1TRVAlZmShW/mLxJrKugLK1/tNEQTB3AyN7/vCl03qFnMyaOpecDatzVKNpu+3SrS93tGxzdqIWVVCCpMVM9pul1qJaZqlKi8Fl5nlCl/iHhol7Cn6kMQrT5VGajllYlPnjj0UiRmJaFX+IrGmsq6A8vV+U+Rlaa5pD6hWMVeEOI5ZGIbCtso1eC8AbF6bpRpN3+910DjWpdQ7OrZZfB+0Qn0Nol0w1JC/QTp8dLlsxknTNJVYwsD34OQd1+G6buOjMSrZU/Qhidus0kgtUD42de3YqxQzMtCx/EViTVVdAcW1xfew+b6fvmYf+uI4TpNN8YRTs5/h5yXzvXD8NXs9Pmg8+77o/Bk6xhyw3I9xHKd7R3nHIYoiZlkWMwyD9ft91u/30+86jrP0Ab6pe5Fl09qsZbRVe0VpY6zLrHc0bbPa2fEilKC1A0e2bVdaVu95nhLL8flyikUVZdM2qmRPmY5uJpmIMpSNTV079irFjAx0LH/RWFNRV0AxbfFjkGazzmb3h/KH6exDcxzHzDTN9L3MQ3hKGIa5D4/8fruum764D0U+bOoYc0X9mJcEi/s0ey8dx1mZgb6Je5Fl09qsRbRZe0Voa6zLrHd0a7O4r1Ssi4l2MDs4+JFke4QQxzF7/fo1er1e6e/u7OxgPB5D9NmSIrm4uJBtwhSq2ZPl0aNHAK72lEk2BcB6sdkmVI6ZJtC9/KrpCiiurYODA/R6Pezu7nYy38Xl5WX6mXv37uHBgwfodrvpZ3Z3dzs7Ozu4f/8+AODZs2dIkmTqt33f72xvb+fZhgcPHuD09LTDX/x37t69W6W4pVE15or6cWtra+67W1tbuLi4mLqXt2/fRhzHC6+nwr1YhmraEtlmbar2OJsY66rUO6ro6tmzZwCAvFglCBHcuHEDAPDq1SvJlgiE76cpuwyBL5GyLGthxlDbths5Em/Z0ibbtpVait+0PWVnsA3DUGYJapXY1HXGXqWYkYGO5S8TayrpCiimrWX3hMOXr+bV80EQTM20mKaZzogt+03kLGOuY4lq0zEXxzEr+lq2ZLiIH03TnJvFNE1zbvm17/urytnIvciyaW1WHm3XXlHaGOsy2zrd2qzJfd2YExmI5pmNsVbM2J+cnMA0Tezv73dWf/qKMAzZkydPEIZhp9frYTAYTP293+8zz/PYmzdvhNubBx+tHg6HuX+/du1aI3aoak8Z9vb2MBqN0MSAzCqqxKau6BwzImh7+VXSFVBMWz///DMA4JNPPln4O8+fP196nfF4zB9k8fLlS/R6PcRxjMPDw9yjnbh/bt26NfU7Z2dnuHfv3vJClaTJmIvjmH377bco+vr+++8X/lYRP4qyGWjmXqyDStoS1Wa1XXtFaWOs69LWqaArvsKCz6oShGhu3rwJAHOrg7SFj/iWSYAXhuFU1s5lo4+z+8PqRLVji1Sxp+zsB0/8IztxSpXYBPSdsQfUiRlZ6Fb+MrGmiq6A4tpad9Zwcs8Y/1x2FjpJEpaXbZrvqcy+x8+arSNLs24xV9SPImYxm74XnE1rs/LYBO2tos2xrvJxdxwVdDWxlY66I2qD16OtyePAl40V3SMfhuFUUhaObdu5S2Wa7Nj7vr+owpKS7VAVe8o+JPEHCtlLsMrGJkfnjr0qMSML3cpfJtZU0RVQTluLTj7JfjcveRVw5R/eLvDs1LOfWdCYTr1nWVZtD3a6xVxRP4pcnpz9R533grNpbdYi2q69VbQ51mXVO7q1WTxj+YrtIwRRGR7nUCBZpBAmgi3cqV+0DIrvUZjt8DfZsU+ShJmmOZdBVlYnTxV7qpyLyitTmeeYlonNLDqfP61KzMhCt/KXjTUVdAWU01ZeZu4kSaYemvMGfKMomnqv3+/PPSAmSZI7IJzNzTKbBVw0usVcUT/mdWyqdHaavBecTWuzFtF27a2izbEuq97Rrc2aDOII79jz1R/8KETZq32WwW2VbUceKvhxXRuyHXsVtnOtBS9MUZFblrVUXHkVaZMde+DDma+qiFWmPZ7npUe1YJIYIu9820XfhcTlT2VjE1ivvCqhWgw3jQ7lrxprsnUFVNMWP3bK9322aBYtiqKp87Zd153yR/Y86WXnbfPrZX+rcmFLlE/1mOOs8mMURWlsGobBfN9n/N5gMvvGy+d5Hu/oMNd1cwftm7wXm9ZmFaHt2ltGm2M9e70m6h2N2ywGgatgOLODKv1+X8kEfXyQTtWBZhX8KMiGdnTs+f6hOkeCmu7YE2JoIjZUvj5B1IEKca2CDQQhGtlxLfv6BFEHCsQ1g+DtCb7vL9w6rMr2K74yxfM8ZlmWkh17Ffwo0IY0zrTOiv/LL78AAHZ3dyVbQqjGl19+CeBDRtKmodgk2ohsXQGkLaKdyNYW6YpoI7J1VQcnJye5Wfa3t7fx9OlTCRbN0+12O4PBoHN8fNzpdruyzclFBT+KtuHt27cizJIH3ztTx8gKP+MekyU/lNFSS/iyrcapMzYJQjLSdAWQtohWQ20WQYhHiq5q3Pu8MOGkivmZFE4IrYIfhdjAczmI3vIhA6kPmITaSH5QodgkWokCHQDSFtFKqM0iCPHI0lUdHftlx0i6riv9ZI08VOzYq+BHkTZkkzRquxSfi8QwDNmmEIrCl//85z//afS6FJtEm5GlK4C0RbQbarMIQjyydJUkyZwNIn8zj/fv3wu5TttRwY8ibdja2gIADIdDaNuxf/bsGYCrfQgEkQfft/Lq1atGr0uxSbQZWboCSFtEu6E2iyDEI7PN4nS73U7d17i4uKj7EhuBCn4sa8O1a9cAAOfn5/p27F+8eAFA3CgY0T52dnYAAL///nuj16XYJNqMLF0BpC2i3VCbRRDikaWr4XAo/DeXafTy8jKduSWWo4IfRdrw559/pv+vbceeZ7jMyyZIEABw8+ZNAKuXu4iGYpNoM7J0BZC2iHZDbRZBiEdmmyUaPvO/aNCAz9wSy1HBjyJt+N///gcAePfunb4d+zdv3gD4MBJHELN8+umnAK6WpjQJxSbRZmTpCiBtEe2G2iyCEI/MNqsOLMvK3VYwGo3Q6/UkWKQnKvhRlA0ff/wxgKvBAG079qPRCMCVUwgiD8dxAADj8bjR61JsEm1Glq4A0hbRbqjNIgjxyGyz6qDX66V5MbIMh0N8/fXXEizSExX8WIcNHwFXZ7YDYJZlMcdxmOu6zHEcBoCZpslc12Wu6/LjCpQ4tkDUyFuSJMx1XRYEAfN9n3me12jZ4jhmtm3nnmOoArL9k7Vhnd8QfIboUqrGpgq+VoEkSZjneSwIAmV9EIYhMwxD+PE5TZd9XW01qSug+RkX3TQpoq6UhW6+XsamtFlN0Zb6tmnqLp8MzerWZtXB0dERhsPhVFmCIGC2bWN/f7/2JH1V4IOHKqGCH2uzwXXduXP0eGd/9rD7MAxVeXDIta8spmlOnS/Z7/f5oEZjcF+rWOHI9k8URcw0zXUGk2T4tlJsyva1CiRJwizLYpPzPcEfGmTbNQuPS5EPmk2XfU1tyaqzhNT7RdFJkwLqSqno5OtlbFKb1RRtqG+bponyNa1Z3dqsSbzyl1DiOFZ+INTzvHSSGABzHId5npfGpAqo4EcRNliWxQAw3/evvpv3I5P35t5PkkSVyo8BWKui930/txKqY2R4FYZhKCdMmf5JkiStBCzLWvshqeH7WfqaKsWiTCzLmipvEARaPtxXoamyC9KWDF01el1dNCmwrpSGLr5exqa1WbrT9ram7vI1qVld26w6O/YEkSXbsf8oiiL28OHDuQ/98ssvufutBoNBmmFSd05OTnKzwG5vb+Pp06eN2rK3t4eTk5NGr7kKmf7pdrudwWDQOT4+7og4guft27cCrKoPlWJRFnzAMLv86Pz8vBWZbFfRZNlFakt1Xa2DLpoUXVfKQBdfL2PT2iydaXtb00T5mtQstVkEUZyPAOSu4x8Oh/jiiy/mvmBZFr766qsGTFtMdhnHOslehsNhbhbYbrfbeCf78PAQ4/EYKo2Yq+SfqhiGUfizq1aixHG8cqli1dhsg6/X5aeffkIQBFPvvX79WpI1y+GxIGpZn05lB8rpCpCrraqQJpuDfP0BXdqsJtn0+rYsTZRPN83KaLMIQgZGXqc+iiK2v7+PL774AsfHx1N/293dVTIxQ1mSJGHdbje3Ibt+/Xru8QN1sr+/3zFNk/X7/UavuwjV/LMuf/zxx8rPnJ+fw3Vddnp6ulATg8FAuG0q+jqOYxYEAWzbTt87OjpKz93knzk6Okob91evXuHHH3+c+kwYhuzs7Azb29tTCZrCMJzyMffv4eHh1PtxHMOyrIXnfNbFMrvjOGbffvstBoNB+vAURRE7ODjA+fk5fvjhBwBXDz7n5+f47bffEEXRlF+yqFb2MhTRFSBPW1VRUZNthXydj8ptlmjaXN+2sS3VWbNtbbMIgpM7hMWX0fz973/H4eFhqR90XZe9ePGi8OdN08Tr169LDRZklxNVXZazaknS+/fvK/3uOty5c0eZkU4V/VOFra0tjEajQo1ZGIYdz/PYbGXOHyIGg8HChwVOldhUzddRFLG//e1v+PXXX9OBvCAI2P7+/tRneMPGfRLHMfvrX//KG/3sA9nUw8m//vWvuWv2+30YhoG9vb10BPzi4gKDwQB37txpdDZlld3cJ4ZhpLbyAdLJ/kI8fvw4/ZzjOOz+/fsLr6dS2YtSRleAPG1VRTVNthny9TQ6tFkiaXN929a2VEfNymizCEIGuefYn56ewjTNSkF7enraGQ6HhV9lO/Wz1CGsi4sL0T9ZiJ2dHYzHY6i+vEeWf6pw7do1AMWP8zk+Pu5cv34d/OSHdSpxEbEpw9cHBwfo9XpTq3PiOMbl5WX6mXv37uHBgwdTZdzd3e3s7OyAP1Q9e/Zs7gHA9/3O9vb23DXjOMaDBw9wenra4S/+O3fv3hVcwuUUtXtra2vuu1tbW7i4uJjy3e3btxHH8cLrqVT2opTVFaCetqqiU/2nO5voa93brLK0ub7dxLZUVc3KbrMIoilyO/avX7/G7u5u07YURsRSomUj05eXl7mNSJ2EYcjOz89hWRaePHky9bcoipjv+4xnIW1iH75q/mkSXpk7jlO6Eq8Smyr5OkkSlpdf4/T0NB2Ei6KIjUYjfPPNN3Pfv3PnDs7OzgBcPXi8e/cOhmGw7JGas0sHgaszTvf29qbei6IIpmnC9/1GG9Aydudx+/btUtdTqex107S2qqKSJtsO+Xp9ZOkqjmNW9LXoiKu21rdtbks3SbPraIsgmuLPP/9M/3+uY887jdmlQm2EC3NRo8ZH95ogDEP25MkThGHY6fV6U/t2kiRhT58+RRiGnTAMOz/88APu3r2LRY2kKFTyzzp8/PHHAIB3796V+t7Dhw/x/PlzdLvd2itxlXz9888/AwA++eSThZ95/vz50t8Yj8dpfL58+RK9Xg9xHOPw8DD3KByeEOnWrVtTv3N2doZ79+5VKcbaFLFbBCqWvQhVdQU0q62qqKTJtkO+nkaHNgv4sIS+6Ov7779f+FttrG/b3JbqqNm2t1kEwZnr2Gf311fBdV1mWVbhV5XzKEVlbrUsKzfJx2g0Qq/XE3KNVYRhyL777rt079TR0REAgI/IDgYDhGGYfn5/f78zHo/TRqNOVPDPuvz3v/8FUK6h4cut3rx5gxs3bqTLsIpQNTZV8TU/8WJZgpnPP/984d/4Mrdut9vhDx3Hx8ed0WjUSZIEe3t7ODg4yP1udrliv99n4/E41UOTlLVbBKqUvShVdAXI0VZVVNHkJkC+/oAubdbu7m5nMBgUfi2agW9rfdv2tlQ3zcposwiiKf7yl78s/qPjOMw0TaUDdzIqyV+V8X1/0cBCI8vdwzBkpmnOLVGzbZs5jpO+l7Vl8llhx74sQ7Z/OI7jVBoAAgDLshgAturoEk4URcyyrKl7whOoFPl+1dhUxdcAYJpmbnmzuR8Mw8j1qeM4aez2+/3cz2STIGWYes+yrML3TDRF7TZNc+5zpmky3/en3vN9f1WdKq3sVbVVVleAPG1VRSVNFmWdulImOvp6GZvQZomizfVtm9tSWZrVqc2a+EGatojNgcf3bH0I4KqiyHYqVYR3brGmWJIkYaZpTnWSgyBo5MEoDEO2aLnZpOLJ3ZPmui7zPK+R+yPTP1kcx2GToC1Nmco8rxLnFK3Mq8amKr4GrvxgGMaULUmSTFUYeYNSURRNvdfv9+cesJIkya1fbNtOrxcEgdQ6qKjdeQ+VVR40ZZa9qrZEdD44dWurKippsijr1JUy0dHXy9iENksUba5v29yWytKsTm1WnR37JEmY67osCALm+35j/YIy6GAjh9sq89rr+GmuY8+Tsk0qDsY79yrfBEzEsu5e8ziOpQSeZVlpApQ88hqsIAgaDzxZ/gGuKs9Jo8QApDFZ5p7zmF7ma45t20t/2/O8oo1CpdiU6es8WxzHYb7vs0WzBVEUMdd108SOrutOlZl/z/d9FgQBC4Jg4f3jZee/VXf5lrHK7iiK0rg0DIP5vs+4LwAw0zTTe+d5Xlqvuq6bO5Ano+zraquMrgD52qqKSppchoi6Uja6+HoZm9ZmiaDt9W2b29ImNatjm1Vnx352UKXf7ys3KauDjcCHgTRZA8ki/LR0xl4jpDVEMgjDcOqGbUq516VsZS6IjYpNYvOQpCuAtEW0HGqzCEI8MnRVV8eeT8bOvl9X0skq6GAjX/XieV7lnG/rIspP2Y597nF3OjF7tmcbiaKInZ2d4ejoCHEcsyAIWDZzPrGY9+/fA1iembYuNiE2ic1Epq4A0hbRXqjNIgjxyG6zRHJycoIbN27Mvb+9vZ0mQJeNDjZ2u93OYDDoHB8fd5Yd4VgndfjJWNcoWRiGgfF43OjZxjKI45jt7u4CwFR2/MePH9ORGwUYj8cAgE8//bSxa25KbBKbiwxdAaQtov1Qm0UQ4pHVZtXBcDjEzs7O3PvdbhcnJycSLJpHBxtVoA4/aT9j//btW9km1Mrk2JK8F1GCpo/KAtofmwQhQ1cAaYtoP9RmEYR4ZLVZouDbZfLKcf36dbx7965xm2bRwUYVqMtP2nbst7a2ACw/I5TYbLL7BZtcZkOxSbQZWboCSFtEu6E2iyDEI7PNEs2q7TJ8y4FMdLBRBeryk7Ydez7CQUvHiEVkRdPtdhtb5UCxSbQZWboCSFtEu6E2iyDEI7PNapKLiwvZJqxEBxtVYB0/adux/+yzzwAAr169kmwJoSrPnj0DAJim2eh1KTaJNiNLVwBpi2g31GYRhHhktlmiWbbi4PLyMl19IxMdbFSBuvykbceeJ5Sj0R9iEXxZYdN7qig2iTYjS1cAaYtoN9RmEYR4ZLZZouErDhatrrl27Vqj9uShg40qINJP2UEAbTv2N2/eBAC8efNGsiWEqvzyyy8APsxGNAXFJtFmZOkKIG0R7YbaLIIQjyxd1TWQYFlW7uqa0WiEXq9XyzXLooONKiDKT9n9+Np27G/dugWA9oQRi/n9998BfJiNaAqKTaLNyNIVQNoi2g21WQQhHpltVh30er10e0GW4XCIr7/+WoJF8+hgowqI9tP29rYIs6TCJq/KJEnCXNdlQRAw3/eZ53lr/d66yLYnjmNm2zYLgkCqH7Jwn5T9nmmaDAALw1BGWUrHpux7XwdhGDLDMFgURULLkiQJ8zyPBUHQCj9labJsVbQlWVeAgHp/Ft3jtI11RxVUqRc2pc2qk02PaZ3KXzXem7qWLF1NsvEL11WSJMw0TRbHcfq7QRAw27aViREdbMziOA6zLKtx20T5aWK7Un23SnCxZh1S5Tey3+/3+8xxHGmOUcGeSeW3ll9FEUURM02zamXAALDsUSdNUSU2Vbj3ouH3T2SHKUkSZllWel/5w4+o35dJk2VbQ1vSdAWIqfdn0T1O21h3lEWVemGT2qw62fSY1qX8a8Z7U9eS2WbVcu04jpUf+NHBRs/zuK4YAOY4DvM8r9FYEeEnXn/3+33lfFyKyahd5YL4vp9bUdYxc6ObPYZhSJ/x4AKzLKt0RT5pENkk2BunbGyqdO9Vx7KsKZ8EQaDkA08VmijbOtqSrStg/Xq/KZqKU6o7rpBdL2xam1Unmx7TOpR/3Xhv6lqydQXJA+HEZpDt2Gu7xx74sF+GJ8Yoy8nJCW7cuDH3/vb2Np4+fbqWbbrbs7e3h5OTk0avmaXb7XYGg0Hn+Pi4s+xIiEXwPSs7OzuiTStE2dhU6d6rDJ+B29/fT8+iPT8/nzqnVleaKts62pKtK2D9er8JmoxTqjvUqBc2rc2qk02PaR3Kv268N3Ut2britOEZhVAXnjzvk08+0Td5HgB8+eWXAJCbeKAIw+EwV+zdbldKp1Ylew4PDzEej6HK6HBZzs7OAAB37tyRcv2ysanSvRdJHMcsDENhyzt/+uknBEEw9d7r169F/LR0dCibbF0B69f7eegcp22tO8qgg3ZWIVtbdeiqKpse05tefpHI1pVhGAAoMSVRL+PxGADw6aefwpBsy1rs7+93DMNgVRrwJElYt9vNPY7i+vXruccP1Ilq9uzv73dM02T9fr/R64qCN37ffPMNHj9+3Pj1y8Smave+DGEYsrOzM2xvb+P8/Dz7fieOY/btt99iMBikD91RFLGDgwOcn5/jhx9+AHDV4J2fn+O3335DFEXp2Z6zRFHE9vf3cXh4OPX3OI5hWZbQhjOOYxYEAWzbTt87Ojqasi2OY3Z0dJQ+gL169Qo//vjj1GeW+UdW2dZBtq6AavV+W+NUtbqjad0A+mhnFbK1tc7zlEhUi+mm2fTyi0a2rjhv376Vdm1ic6jriMVG4UkPys4s8303efvJXNdlhmE0OlOtmj3AVVIJGdedxXGcSslSZO4DBorHpor3vghxHM/tAwzDcC43g2EYc0msDMNgrutOzZA6jrM02y33heu66Yv7WGQ+iCiKmGEYc1lKs2WNomgqURdw5Q/TNNP3ivqnybLNUkFb0nUFlKv32xqngFp1hwzdAPK0s4y2t1l1olJMy0DH8leM96auJVVXrUlqRihL9vSFJEn03mMPAPfv3wcAofuOLi4uhP2WCGTZs7Ozg/F4DInHWlWC2ytzuTAgJjZVi8Usz549m9s35vt+Z/Ycza2trbnvbm1t4f3qrNEAAAmXSURBVOLiAru7u+ks2+3btxHH8cLrxXGMBw8e4PT0tMNf3Md3795dqyxZDg4O0Ov1pmyL4xiXl5fpZ+7du4cHDx5MzTLu7u52dnZ20vte1D9Nlm0dVNEVUE5bbY3TVTRdd8jQDb+GCv5eB1W0VcfzlEhUbg+bYNPLXxYVdMVnUHVZOUToR7a9XLSSUEdKnz/IRzjyRtFs2258hE81e8IwZL7vM8uycmdP+v0+47MxdY/ulx2h5dl9FckPsDI2Zdz7OI5Z0deybK6maaazZYtGpE3TnJsJNU2T+b4/9Z7v+6vKOncOreu6Qv2z7F5wJnGVux87CIKpGZUi/plQe9nyKKMtxXQFlKj32xanHFXaDYm6ASRpZxltb7PqRJWYloWO5Vd1xl4FXXEbVDzqjWgH/IhyXjdoP2MPAI7jYDgcosxxEnxUY9Eo2rVr1wRZp589YRiyJ0+eIAzDTq/Xw2AwmPr7w4cP8fnnn+Px48edR48eKTcrEscxDMOYypAsiyKx2fS953uKi76+//77hb/18uVL9Ho9xHGMw8PD2o7j4Z2BW7duTb1/dnaGe/fuCbvOzz//DOAqs+ginj9/vvQ3xuNxer+L+Kepsq2LSroCytX7bYtTjirthgzdAPpoZxUqaavK85RIVIlpWWx6+UWigq74aRO02oKoiz/++APAh9UhrejYP3r0CACWdkDysCwrNxHJaDRCr9cTYptu9oRhyL777jsMBoMOcJX4CACyo8e//vrrVEXJszGqQBzHTNb9y6NobDZ573d3dzuDwaDwKy9hFZDOwOH4+LgzGo06SZJgb28PBwcHQu2dtZ3/f7/fZ+PxOI1REXz11VcAPlSUeXz++ecL/8YTfXW73U5Z/9RdtnVQTVdAcW21MU6zqNBuyNQNoLZ2VqGatqo+T4lEhZiWyaaXXwSq6OrmzZsAgDdv3ki1g2gv/IjSzz77TLIlgjFNs/QSJd/3Fy3pkbJ0R7Y9YRhOJTHi2LY9txyf47ru3PJV0VRZeiVrtiGPIrEp+95XgW/HmH1/NrmPyCXO2X9YllVL7JmmmZscLbvcNy/RGnAVq1wrRf0zoZGyzVJUWyrqCiimrbbGadYeFeoOSboBJGlnGZvQZtWJKjEtC93Kr+JSfFV0xZMhqriFgmgHPOmp7HZPOJMClar0kiRhpmnOZfFtqoJSyZ4wDNmi5Y7ct9kKMooi5nkecxyn9orTcZxCe/743rRFgxCyKBKbqsViEfr9/lxjlSTJnP/zOkdVOky2baf+mc22LZK87N5JkkzZmzcIFkXR1HtF/dNk2WYpoi1VdQUU01Zb45SjSt0hQzeAPO0sYxParDpRJaZloVv5i8Z7U9dSUFcMMwOQy+B7pnmOq+xJH3wA1XVdHg/S4kIHO3WwkZMkydITdxbBT17QLdF5IXiynTLfieOY8Vln3/elJ7iQZY9lWUuTFOU94AIfBgTq6NzzgQNMKkXHcZjneQuvNbFPyRHtIrGpWiyugs+s+b7PgiBgQRBM3Z8oitL7ZxgG832fRVHE/cBM00zL6Hkef5hnrusu3E/rui7zfT83FkXCj9zyfZ8tmkHkZeH2uK47FZur/COrbEA5bamsK2C1ttocp7PXlF13NK0bfs2m/b2ITWuz6kSVmJaFDuUvG+9NXUs1XfE2Iy9xaB55SUN5B3W28xaGoTSd6mCnDjYCHwa4Kw4sMCiwOqUWuJiLiocoT7/fzztHVYklIGuIonYoNgldUVlXAGmL0BeVtUW6InRFNV3xQeKiZ9nnDeJM3pt7P0kSac/fOtipuo18NZrnecyyrNJxuxFbPRbt8yPEwJfg83/zJU+yR0YnFabSDyEUm4Ru6KArgLRF6IcO2iJdEbqhoq741pYiqy6iKMp9nrYsK3cLQhRFUpZg62CnDjZmqZKrgq8+UGjbiXh4IVUSddvo9/vpMknHcQqPQtaJDg8gFJuEbuigK4C0ReiHDtoiXRG6oaKuJp3LQp22JZNkuQMDcRxLWYKtg5062JilSseer6xSYdV0rSzL4k60D9/387YHKAnFJqELOukKIG0R+qCTtkhXhC6orKuJXZVs4wMDRSbR4jhO8zLwAY7sRFyV64u2M45j5vs+cxxnbka97pO2yvgSuFptYRgGsywr7fTXlculSsd+svKg/YOvSZIwwzCUmEkm6oXvL9ElGyTFJqEDuukKIG0ReqCbtkhXhA6oriue+K/KtlU+K7tqNnl2j7ht28y2bZYkCddvrTPSRe3ks+U8I/3Mn2uta4raCHxI9MpXKXuex2zbri3GKh4b2e799VnqzNZOqINt20pmi10GxSahOjrqCiBtEeqjo7ZIV4TqqK4r3rGuMttr23ahztvsb1uWNeWTumd1i9gZhmE6uDF72hafTa+zninqSyDNIZay6KQXUZTt2POtUirHvXCyS1GI9hGGoVKZT8tAsUmois66AkhbhLrorC3SFaEqGukqN2lbke8V0V5Oh7jpFQyF6wi+wiI72OD7fhOzz5XqMT5rX4dBnLIde37aguzk5QRBEARBEARBEBsDX45fZka67J5wDp/NLWliZcra6fv+3CCHbdu1Dh5W9WUQBI0kpyvbsTdNU9mcEgRBEARBEARBEK2Ed7bLzPyW2ROehZ+LXtbGqpS1c3abwARl9tdnv9NUxvkyHXu+4mGjluETBEEQBEEQBEGogGmapZabO45T+PPZZe2WZU3NfmcS6NVCGTuBq1MCsvY0sb++rI15M/VRFNXmxzIde74Mn/KeEARBEARBEARBNMyko1h4X7RhGIWOqeOrAeI4ZlEUsdkZ8br3hxe1k2NZ1lQHuWynuwplbAzDkFmWxXzfZ77vs36/n2bFr8s+x3EKrbKYdObpGFKCIAiCIAiCIAhZGIaxdC85P+N90tFlvEO6bNl1HMeMnwEfBAFLkmTu36LLUcVOThRFzHGctOM8u8JAto3Zv7uum36vDj96nsc76WmH3fO8hdfiWwooaR5BEARBEARBEIQkeMes7uPnNIM6qgUxTVOXUyAIgiAIgiAIgiDai2maG3t8pG3bc9sEmkz0pzOT7Qs0KEQQBEEQBEEQBCGb7J542bY0jWVZabmjKGKmaVISuIJs8oAQQRAEQRAEQRCEcti2vZEJ0Pr9PvN9n3met3QvOTGN7/t0bj1BEARBEARBEIRKJEnCZo99I4g8+Ln1k5UeBEEQBEEQBEEQhCqEYcgMw6BZa2Ips3kJCIIgCIIgCIIgCIXwfZ/2TRMLCcOQsuATBEEQBEEQBEEQxKbw/3kc0DzVLyFWAAAAAElFTkSuQmCC)"
      ],
      "metadata": {
        "id": "i45ZAAmkJlne"
      }
    },
    {
      "cell_type": "code",
      "source": [
        "# 1. Projection\n",
        "\n",
        "# Fonctions transformation dans le monde\n",
        "\n",
        "def dilatation(v, Cx, Cy, Cz):\n",
        "    \"\"\"\n",
        "    Cx, Cy, Cz les coefficients de dilatation par axe\n",
        "    v : les coordonnées x,y,z du point\n",
        "    \"\"\"\n",
        "    #Multiplication avec numpy (.dot(a,b))\n",
        "    return np.dot(v, [[Cx,0,0],[0,Cy,0],[0,0,Cz]])\n",
        "\n",
        "def rotation(v, axe, angle):\n",
        "    \"\"\"\n",
        "    v = [x,y,z] tab\n",
        "    axe = \"x\", \"y\" ou \"z\" str\n",
        "    angle = float en degré\n",
        "    \"\"\"\n",
        "\n",
        "    a = (angle*pi)/180 #Passage de l'angle en radian\n",
        "    c = cos(a)\n",
        "    s = sin(a)\n",
        "\n",
        "    #Test pour trouver la bonne matrice de rotation\n",
        "    if axe == \"x\":\n",
        "        m_rotation = [[1,0,0],[0,c,-s],[0,s,c]]\n",
        "    elif axe == \"y\":\n",
        "        m_rotation = [[c,0,s],[0,1,0],[-s,0,c]]\n",
        "    elif axe == \"z\":\n",
        "        m_rotation = [[c,-s,0],[s,c,0],[0,0,1]]\n",
        "    else:\n",
        "        print(\"Erreur axe: 'x', 'y' ou 'z'\")\n",
        "        m_rotation = [[1,0,0],[0,1,0],[0,0,1]]\n",
        "        \n",
        "    return np.dot(v, m_rotation)\n",
        "\n",
        "def translation(v, Tx, Ty, Tz):\n",
        "    \"\"\"\n",
        "    v = [x,y,z,1]\n",
        "    Tx, Ty, Tz = entier\n",
        "    \"\"\"\n",
        "\n",
        "    #Si la coordonnée est toujours de taille 1*3 et non 1*4\n",
        "    if len(v) != 4:\n",
        "        return print(\"Erreur: v = [x,y,z,1]\")\n",
        "    return np.dot(v, [[1,0,0,0],[0,1,0,0],[0,0,1,0],[Tx,Ty,Tz,1]])\n",
        "\n",
        "def matrice_T(d, r, t):\n",
        "    \"\"\"\n",
        "    d = [dx,dy,dz] Les coefficients de dilatation sur chaque axe\n",
        "    r = [ax,ay,az] Les angles de rotation autour de chaque axe\n",
        "    t = [tx,ty,tz] Les coefficients de translation sur chaque axe\n",
        "    \"\"\"\n",
        "    \n",
        "    tra = [[1,0,0,0],[0,1,0,0],[0,0,1,0],[t[0],t[1],t[2],1]] #Matrice translation\n",
        "    dil = [[d[0],0,0,0],[0,d[1],0,0],[0,0,d[2],0],[0,0,0,1]] #Matrice dilatation\n",
        "    a = (r[0]*pi)/180\n",
        "    c = cos(a)\n",
        "    s = sin(a)\n",
        "    Rx = [[1,0,0,0],[0,c,-s,0],[0,s,c,0],[0,0,0,1]]\n",
        "    a = (r[1]*pi)/180\n",
        "    c = cos(a)\n",
        "    s = sin(a)\n",
        "    Ry = [[c,0,s,0],[0,1,0,0],[-s,0,c,0],[0,0,0,1]]\n",
        "    a = (r[2]*pi)/180\n",
        "    c = cos(a)\n",
        "    s = sin(a)\n",
        "    Rz = [[c,-s,0,0],[s,c,0,0],[0,0,1,0],[0,0,0,1]]\n",
        "    rot = np.dot(Rx,Ry)\n",
        "    rot = np.dot(rot, Rz) #Matrice rotation\n",
        "\n",
        "    #Multiplication des trois sous-matrices\n",
        "    T = np.dot(dil, rot)\n",
        "    T = np.dot(T, tra)\n",
        "    \n",
        "    return T\n",
        "\n",
        "\n",
        "def local_vers_monde(point, d, r, t):\n",
        "    \"\"\"\n",
        "    point = [x,y,z,1] Les coordonnées de base du point\n",
        "    d = [dx,dy,dz] Les coefficients de dilatation sur chaque axe\n",
        "    r = [ax,ay,az] Les angles de rotation autour de chaque axe\n",
        "    t = [tx,ty,tz] Les coefficients de translation sur chaque axe\n",
        "    \"\"\"\n",
        "    #Deduction de la matrice transformation\n",
        "    T = matrice_T(d, r, t)\n",
        "    #multiplication\n",
        "    point_monde = np.dot(point,T)\n",
        "    \n",
        "    return point_monde"
      ],
      "metadata": {
        "id": "3VjdPo0VJEOf"
      },
      "execution_count": 10,
      "outputs": []
    },
    {
      "cell_type": "markdown",
      "source": [
        "#2. Monde vers caméra : la matrice Visualisation\n",
        "Il faut tout d’abord comprendre que la caméra peut être considérée comme un objet, elle dispose donc de sa propre matrice de transformation pour se placer dans le monde. Cette matrice est définie par la matrice V.\n",
        "Afin de placer les coordonnées du monde par rapport à la caméra il suffit de les multiplier par la matrice inverse de la matrice transformation de la caméra.\n",
        "La matrice ![image.png](data:image/png;base64,iVBORw0KGgoAAAANSUhEUgAAACAAAAASCAYAAAA6yNxSAAABQklEQVRIicWVsZGDMBBFnz0KiRU4ZIgceAgowCVQg2qgCg01qAAX4NihAwICAgeOHBC6hX/BwZ0Zw93MncEvknZW+rtarQRvII5jVVUlgPWSwt575Xmu2+22pOwzxpj3nMAYa+ecoigSIGut8jzXmGNnF6D9fj/q8xdWACEEOecIIeCcW005W2tV1zWbzebLpygKVVU1KZBlGWVZDvY0xuh8PpNl2ae9q4eKopjMrBN6SeZPd6CP5Hq9ji5o21b3+/074jkwxihN05/q/2+6UgtQmqbDE7fWylr7JOS9VwjhZZduki77J6FXZf8rfZu1batH2+N8Dkw/SJIEgLquATgej2qaZtByswaw3W4BaJoGAO89p9NpVnF4eIp3ux0Al8sF55zKspxbexTFcdy3yvJEUdT/C4sx+A2TJOFwOCypzwd+H5Wsl6gGwgAAAABJRU5ErkJggg==) permet de placer les points, au départ du monde, par rapport au repère de la caméra.\n"
      ],
      "metadata": {
        "id": "NrcXuEcfM8q-"
      }
    },
    {
      "cell_type": "code",
      "source": [
        "def monde_vers_camera(point,dc,tc,rc):\n",
        "    \"\"\"\n",
        "    Projection du point dans le monde vers la camera\n",
        "    \"\"\"\n",
        "\n",
        "    #Projection camera dans monde puis monde dans camera\n",
        "    camera_monde = matrice_T([1,1,1], tc, rc) #V\n",
        "    camera_local = inv(camera_monde) #V^-1\n",
        "\n",
        "    #Projection du point dans l'espace camera\n",
        "    point_camera = np.dot(camera_local,point)\n",
        "    \n",
        "    return point_camera"
      ],
      "metadata": {
        "id": "db2mTCUBOEFY"
      },
      "execution_count": 11,
      "outputs": []
    },
    {
      "cell_type": "markdown",
      "source": [
        "##3. Caméra vers écran : La matrice perspective\n",
        "Voici la matrice en question : \n",
        "\n",
        "![image.png](data:image/png;base64,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) \n",
        "\n",
        "où f et n correspondent respectivement à la distance avec le plan lointain (far) et le plan proche (near) et où S est ![image.png](data:image/png;base64,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)\n",
        "où fov est  le champ de vision de la caméra \n",
        "![image.png](data:image/png;base64,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)"
      ],
      "metadata": {
        "id": "jOYnH0u-OGly"
      }
    },
    {
      "cell_type": "code",
      "source": [
        "def matrice_P(fov, n, f):\n",
        "    \"\"\"\n",
        "    Calcul de la matrice perspective tel que vu dans le wiki\n",
        "    fov : champ de vision en degré\n",
        "    n : distance premier plan\n",
        "    f : distance arriere plan\n",
        "    \"\"\"\n",
        "    s = 1/(tan((fov/2)*(pi/180)))\n",
        "    return [[s,0,0,0],[0,s,0,0],[0,0,-f/(f-n),-(f*n)/(f-n)],[0,0,0,-1]]\n",
        "\n",
        "def camera_vers_ecran(point,fov,proche,lointain):\n",
        "    \"\"\"\n",
        "    Projection du point sur l'ecran de la camera\n",
        "    \"\"\"\n",
        "    \n",
        "    #Creation de la matrice perspective\n",
        "    perspective = matrice_P(fov, proche, lointain)\n",
        "\n",
        "    #Projection du point sur l'ecran\n",
        "    point_ecran = np.dot(point,perspective)\n",
        "    \n",
        "    return point_ecran[:-1] #[:-1] car l'on peut desormait travaiiler sur (x,y,z)\n",
        "                            # et non (x,y,z,1)"
      ],
      "metadata": {
        "id": "H8_uECVET5g_"
      },
      "execution_count": 12,
      "outputs": []
    },
    {
      "cell_type": "markdown",
      "source": [
        "##4. Ecran vers raster : Mise à l’échelle\n",
        "Pour passer des coordonnées sur l’écran vers la grille de pixel (raster ou canevas) que compose un écran d’ordinateur il faut: \n",
        "\n",
        "1. Passer des coordonnées dans IR à des coordonnées normalisées entre 0 et 1\n",
        "![image.png](data:image/png;base64,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)\n",
        "![image.png](data:image/png;base64,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)\n",
        "2. Placer ces nouveaux points sur notre espace rastérisé (canevas ou grille de pixels)\n",
        "![image.png](data:image/png;base64,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)\n",
        "![image.png](data:image/png;base64,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)\n"
      ],
      "metadata": {
        "id": "LGnsrRsqT97v"
      }
    },
    {
      "cell_type": "code",
      "source": [
        "def ecran_vers_normalise(point, largeur, hauteur):\n",
        "    \"\"\"\n",
        "    Transformation du point aux coordonnees normalisees\n",
        "    \"\"\"\n",
        "    \n",
        "    p = point\n",
        "    l = largeur\n",
        "    h = hauteur\n",
        "    #Si le point est comprit dans l'image\n",
        "    if (abs(p[0]) <= l/2) or (abs(p[1]) <= h/2):\n",
        "        #Transformation normalisée (NDC space)\n",
        "        p[0] = (p[0]+l/2)/l\n",
        "        p[1] = (p[1]+h/2)/h\n",
        "        return p\n",
        "    return None\n",
        "\n",
        "def normalise_vers_grille(point, l, h):\n",
        "    \"\"\"\n",
        "    Transformation du point aux coordonnees pixel\n",
        "    \"\"\"\n",
        "    \n",
        "    p = point\n",
        "    p[0] = floor(p[0]*l)\n",
        "    p[1] = floor((1-p[1])*h)\n",
        "    return p\n"
      ],
      "metadata": {
        "id": "iKNZZ9RKVWrW"
      },
      "execution_count": 13,
      "outputs": []
    },
    {
      "cell_type": "markdown",
      "source": [
        "##5. Résultat final"
      ],
      "metadata": {
        "id": "-sPtC6USVXzo"
      }
    },
    {
      "cell_type": "code",
      "source": [
        "\n",
        "# Resultat final\n",
        "\n",
        "def procedure_local_grille(point_local,index,couleur,dp,rp,tp,dc,rc,tc,fov,proche,lointain,largeur,hauteur):\n",
        "    \"\"\"\n",
        "    Transformation totale du point local vers l'espace raster\n",
        "    \"\"\"\n",
        "    \n",
        "    point_monde = local_vers_monde(point_local,dp,rp,tp)\n",
        "    point_camera = monde_vers_camera(point_monde,dc,rc,tc)\n",
        "    point_ecran = camera_vers_ecran(point_camera,fov,proche,lointain)\n",
        "    point_normalise = ecran_vers_normalise(point_ecran, largeur, hauteur)\n",
        "    point_grille = normalise_vers_grille(point_normalise, largeur, hauteur)\n",
        "    x = point_grille[0]\n",
        "    y = point_grille[1]\n",
        "    coords = (int(x),int(y),point_grille[2])\n",
        "    return (coords,index,couleur)   #Ajout d'un index et de la couleur necessaire\n",
        "                                    #à la visualisation\n",
        "        \n"
      ],
      "metadata": {
        "id": "qntP9XmeV-ah"
      },
      "execution_count": 14,
      "outputs": []
    },
    {
      "cell_type": "markdown",
      "source": [
        "#Visualisation\n",
        "\n",
        "##1. Trouver les pixels contenus dans le triangle\n",
        "Afin de trouver quels pixels sont contenus dans le triangle formé par trois points projetés sur l’espace rastérisé il faut tout d’abord réduire la zone de tests de pixels au maximum.\n",
        "Pour cela il faut définir une boite de délimitation (bounding box) qui n’est ni plus ni moins que le plus petit rectangle pouvant encadrer le triangle."
      ],
      "metadata": {
        "id": "E8qugPUDWwx1"
      }
    },
    {
      "cell_type": "code",
      "source": [
        "def ordre(s1,s2,s3):\n",
        "    \"\"\"\n",
        "    Retourne l'ordre des sommets grace à leur index\n",
        "    s = ((x,y,z),i)\n",
        "    \"\"\"\n",
        "    \n",
        "    tuples = [s1,s2,s3]\n",
        "    return sorted(tuples, key=lambda tuples: tuples[1])\n",
        "\n",
        "def boite(s1,s2,s3):\n",
        "    \"\"\"\n",
        "    Génération de la plus petite boite englobant le triangle\n",
        "    \"\"\"\n",
        "    \n",
        "    boite_start = (min(s1[0],s2[0],s3[0]),min(s1[1],s2[1],s3[1]))\n",
        "    boite_end = (max(s1[0],s2[0],s3[0]),max(s1[1],s2[1],s3[1]))\n",
        "    \n",
        "    return (boite_start,boite_end) #(xmin,ymin),(xmax,ymax)"
      ],
      "metadata": {
        "id": "y-LWKTsRZpSs"
      },
      "execution_count": 15,
      "outputs": []
    },
    {
      "cell_type": "markdown",
      "source": [
        "Ensuite il faut mettre en place la fonction des bords"
      ],
      "metadata": {
        "id": "xzSmjjR8Zxco"
      }
    },
    {
      "cell_type": "code",
      "source": [
        "def interieur_bordure(s1,s2,pixel):\n",
        "    \"\"\"\n",
        "    Calcul le déterminant D pour ensuite tester si le pixel est dans le triangle\n",
        "    \"\"\"\n",
        "    \n",
        "    return ((pixel[0] - s2[0]) * (s1[1] - s2[1]) - (pixel[1] - s2[1]) * (s1[0] - s2[0]))\n"
      ],
      "metadata": {
        "id": "vbw6Q3YAZ0Tn"
      },
      "execution_count": 16,
      "outputs": []
    },
    {
      "cell_type": "code",
      "source": [
        "def liste_pixels_coeffs(s1,s2,s3):\n",
        "    \"\"\"\n",
        "    Retourne la listes des pixels dans le triangle ainsi que leurs coefficients\n",
        "    par rapport à chaque sommets\n",
        "    \"\"\"\n",
        "    \n",
        "    b = boite(s1,s2,s3)\n",
        "    points = []\n",
        "    coeffs = []\n",
        "    #Aire du triangle complet\n",
        "    aire = interieur_bordure(s1,s2,s3)\n",
        "    #Parcours de la bounding box\n",
        "    for i in range(b[0][0],b[1][0]+1):\n",
        "        for j in range(b[0][1],b[1][1]+1):\n",
        "            #Calcul des sous-aires\n",
        "            aire3 = interieur_bordure(s1,s2,(i,j))\n",
        "            aire1 = interieur_bordure(s2,s3,(i,j))\n",
        "            aire2 = interieur_bordure(s3,s1,(i,j))\n",
        "            #Si le pixel est à l'interieur des trois bords du triangle\n",
        "            if aire1 >= 0 and aire2 >= 0 and aire3 >= 0:\n",
        "                #Coordonnées barycentriques\n",
        "                coeff = ((aire1/aire,aire2/aire,aire3/aire))\n",
        "                #Calcul de la profondeur par rapport aux coords barycentriques\n",
        "                z = coeff[0]*s1[2]+coeff[1]*s2[2]+coeff[2]*s3[2]\n",
        "                points.append((i,j,z))\n",
        "                coeffs.append(coeff)\n",
        "    return (points,coeffs)\n",
        "\n",
        "def calculer_rgb(c1,c2,c3,liste):\n",
        "    \"\"\"\n",
        "    Calcul de la couleur du pixel\n",
        "    \"\"\"\n",
        "    \n",
        "    #Liste des points du triangle et de leur coeff\n",
        "    finale = liste[0]\n",
        "    k = 0\n",
        "    for i in liste[1]:\n",
        "        cf1 = i[0]\n",
        "        cf2 = i[1]\n",
        "        cf3 = i[2]\n",
        "        \n",
        "        couleur = ()\n",
        "\n",
        "        #Pour chaque composante (r, g et b)\n",
        "        for j in range(3):\n",
        "            #Nouvelle couleur\n",
        "            c = floor(cf1*c1[j]+cf2*c2[j]+cf3*c3[j])\n",
        "            couleur += (c,)\n",
        "        #Correspondance du point et de la couleur (ecrase les coord barycentriques)\n",
        "        finale[k] = (finale[k],couleur)\n",
        "        k += 1\n",
        "    return finale\n",
        "\n",
        "def remplir(s1,s2,s3):\n",
        "    \"\"\"\n",
        "    Renvoie la liste des pixels ainsi que leur couleur\n",
        "    s = ((x,y,z),i,(r,g,b))\n",
        "    \"\"\"\n",
        "    \n",
        "    o = ordre(s1,s2,s3)\n",
        "    liste = liste_pixels_coeffs(o[0][0],o[1][0],o[2][0])\n",
        "    return calculer_rgb(s1[2],s2[2],s3[2],liste)"
      ],
      "metadata": {
        "id": "R1gTRq4iarVQ"
      },
      "execution_count": 17,
      "outputs": []
    },
    {
      "cell_type": "markdown",
      "source": [
        "#Rendu de la scène"
      ],
      "metadata": {
        "id": "6dEIc4cma1m3"
      }
    },
    {
      "cell_type": "code",
      "source": [
        "# Image\n",
        "\n",
        "def creer_image(l,h,fond,fichier):\n",
        "    \"\"\"\n",
        "    Création d'une image vierge\n",
        "    l = largeur\n",
        "    h = hauteur\n",
        "    fichier = fichier de sortie\n",
        "    fond = couleur du fond (r,g,b)\n",
        "    \"\"\"\n",
        "\n",
        "    #ouverture du fichier en mode lecture\n",
        "    image = open(fichier,\"w\")\n",
        "    image.write(\"P3\\n\"+str(l)+\" \"+str(h)+\"\\n255\\n\")\n",
        "    #Mettre tous les pixels à la couleur du fond\n",
        "    for i in range(h):\n",
        "        for j in range(l):\n",
        "            image.write(str(fond[0])+\" \"+str(fond[1])+\" \"+str(fond[2])+\"\\n\")\n",
        "    #fermeture du fichier\n",
        "    image.close()\n",
        "    return None\n",
        "\n",
        "def rendu(liste,fichier):\n",
        "    \"\"\"\n",
        "    Ecrit les nouveaux pixel sur l'image\n",
        "    \"\"\"\n",
        "    \n",
        "    im = Image(fichier)\n",
        "    for i in liste:\n",
        "        x = i[0][0]\n",
        "        y = i[0][1]\n",
        "        c = i[1]\n",
        "        #Mise à jour des nouveaux pixels avec leur couleur\n",
        "        im.setPixel(x,y,c)\n",
        "        \n",
        "    im.save(fichier)\n",
        "    return None\n",
        "\n",
        "def rendu_total(l,h,fond,fichier,liste):\n",
        "    \"\"\"\n",
        "    Créé l'image en partant des dimensions et de la liste de pixels\n",
        "    \"\"\"\n",
        "    \n",
        "    creer_image(l,h,fond,fichier)\n",
        "    rendu(liste,fichier)\n",
        "    return None\n",
        "\n"
      ],
      "metadata": {
        "id": "zcVpkrBWct-9"
      },
      "execution_count": 18,
      "outputs": []
    },
    {
      "cell_type": "code",
      "source": [
        "# Quelques exemples\n",
        "def exemple_1():\n",
        "    rendu_total(10,10,(0,0,0),\"rendu10x10.ppm\",remplir(((0,6,2),1,(255,0,0)),((4,0,-5),2,(0,255,0)),((6,4,0),3,(0,0,255))))\n",
        "    rendu_total(600,400,(0,0,0),\"rendu600x400_1.ppm\",remplir(((100,200,2),1,(255,0,0)),((400,50,-5),2,(0,255,0)),((550,350,0),3,(0,0,255))))\n",
        "    rendu_total(600,400,(0,0,0),\"rendu600x400_2.ppm\",remplir(((100,350,2),1,(255,255,0)),((550,50,-5),2,(0,255,255)),((550,300,0),3,(255,0,255))))\n",
        "    rendu_total(600,400,(255,255,255),\"rendu600x400_3.ppm\",remplir(((100,350,2),1,(0,100,0)),((550,50,-5),2,(0,150,0)),((550,300,0),3,(0,200,0))))\n",
        "    return \"Rendu terminé\"\n",
        "\n",
        "# Implementation du z-buffer"
      ],
      "metadata": {
        "id": "H4SEdFO_cyjE"
      },
      "execution_count": 22,
      "outputs": []
    },
    {
      "cell_type": "code",
      "source": [
        "exemple_1()"
      ],
      "metadata": {
        "colab": {
          "base_uri": "https://localhost:8080/",
          "height": 35
        },
        "id": "YC67FtcPc0s4",
        "outputId": "9775740f-f3cf-4900-c1d6-785849e23b81"
      },
      "execution_count": 23,
      "outputs": [
        {
          "output_type": "execute_result",
          "data": {
            "text/plain": [
              "'Rendu terminé'"
            ],
            "application/vnd.google.colaboratory.intrinsic+json": {
              "type": "string"
            }
          },
          "metadata": {},
          "execution_count": 23
        }
      ]
    },
    {
      "cell_type": "code",
      "source": [
        "import cv2\n",
        "import matplotlib.pyplot as plt\n",
        "img = cv2.imread(\"rendu600x400_3.ppm\")\n",
        "img = cv2.cvtColor(img,cv2.COLOR_BGR2RGB)\n",
        "plt.imshow(img)\n",
        "plt.savefig(\"exemple_1.jpg\")"
      ],
      "metadata": {
        "colab": {
          "base_uri": "https://localhost:8080/",
          "height": 269
        },
        "id": "jbR8WDqVc8Mk",
        "outputId": "71ce8102-c886-4e09-9bd0-77dbce6fd40a"
      },
      "execution_count": 24,
      "outputs": [
        {
          "output_type": "display_data",
          "data": {
            "text/plain": [
              "<Figure size 432x288 with 1 Axes>"
            ],
            "image/png": "[encoded data removed]"
          },
          "metadata": {
            "needs_background": "light"
          }
        }
      ]
    },
    {
      "cell_type": "markdown",
      "source": [
        "#Algorithme du Z-Buffer"
      ],
      "metadata": {
        "id": "UDJlObSUdROf"
      }
    },
    {
      "cell_type": "markdown",
      "source": [
        " Lors de la visualisation d'une scène, cet algorithme supprime l'affichage de tout objet ou morceau d'objet masqué par un autre objet ou par lui même."
      ],
      "metadata": {
        "id": "OLnlg6VwdkKX"
      }
    },
    {
      "cell_type": "code",
      "execution_count": 25,
      "metadata": {
        "id": "hJBFBkzZl1mv"
      },
      "outputs": [],
      "source": [
        "def initialisation_z_buffer(l,h):\n",
        "    \"\"\"\n",
        "    Creation d'un tableau 2D avec chaque case = -inf\n",
        "    \"\"\"\n",
        "    z_buffer = []\n",
        "    #Ligne\n",
        "    for i in range(0,h):\n",
        "        z_buffer.append([])\n",
        "        for j in range(0,l):\n",
        "            z_buffer[i].append(-inf)\n",
        "    return z_buffer\n",
        "\n",
        "def cache(z_buffer,p):\n",
        "    \"\"\"\n",
        "    Test si un pixel est cache\n",
        "    \"\"\"\n",
        "    \n",
        "    if p[2] <= z_buffer[p[1]][p[0]]:\n",
        "        return True\n",
        "    return False\n",
        "\n",
        "def modifier_z_buffer(z_buffer,p):\n",
        "    \"\"\"\n",
        "    Modifie la case avec la nouvelle profondeur\n",
        "    \"\"\"\n",
        "    \n",
        "    z_buffer[p[1]][p[0]] = p[2]\n",
        "    return z_buffer\n",
        "\n",
        "def rendu_z_buffer(liste,fichier,z_buffer):\n",
        "    \"\"\"\n",
        "    Rendu de l'image en prenant compte le z-buffer\n",
        "    \"\"\"\n",
        "\n",
        "    #Ouverture de l'image\n",
        "    im = Image(fichier)\n",
        "    for i in liste:\n",
        "        x = i[0][0]\n",
        "        y = i[0][1]\n",
        "        z = i[0][2]\n",
        "        c = i[1]\n",
        "        #tests z-buffer\n",
        "        if not cache(z_buffer,(x,y,z)):\n",
        "            z_buffer = modifier_z_buffer(z_buffer,(x,y,z))\n",
        "            im.setPixel(x,y,c)\n",
        "    #Sauvegarde de l'image\n",
        "    im.save(fichier)\n",
        "    return None\n",
        "\n",
        "# Algorithme final\n",
        "\n",
        "def rasterisation(triangles,c,image):\n",
        "    \"\"\"\n",
        "    triangles : [[[[(x,y,z),index,couleur],[(x,y,z),index,couleur],[(x,y,z),index,couleur]],dp,rp,tp],triangle2...]\n",
        "    c (camera) : [dc,rc,tc,fov,proche,lointain]\n",
        "    image : [largeur,hauteur,fond,fichier_sortie]\n",
        "    \"\"\"\n",
        "    points_p = []\n",
        "    triangles_p = []\n",
        "    l = image[0]\n",
        "    h = image[1]\n",
        "    fond = image[2]\n",
        "    fichier = image[3]\n",
        "    #Pour chaque triangle\n",
        "    for t in triangles:\n",
        "        #Pour chaque point\n",
        "        for p in t[0]:\n",
        "            point = p[0]+(1,)\n",
        "            points_p.append(procedure_local_grille(point,p[1],p[2],t[1],t[2],t[3],c[0],c[1],c[2],c[3],c[4],c[5],l,h))\n",
        "        #Ajout du nouveau point\n",
        "        triangles_p.extend([points_p])\n",
        "        points_p = []\n",
        "    liste_pixels_t = []\n",
        "    #Pour chaque triangle projete\n",
        "    for t in triangles_p:\n",
        "        liste_pixels_t.append(remplir(t[0],t[1],t[2]))\n",
        "    #Initialisation z-buffer global car reutilise dans plusieurs fonctions\n",
        "    global z_buffer\n",
        "    z_buffer = initialisation_z_buffer(l,h)\n",
        "    creer_image(l,h,fond,fichier)\n",
        "    #Test z-buffer\n",
        "    for p in liste_pixels_t:\n",
        "        rendu_z_buffer(p,fichier,z_buffer)\n",
        "    \n",
        "    return (\"Rendu terminé\")\n",
        "\n"
      ]
    },
    {
      "cell_type": "code",
      "source": [
        "\n",
        "\n",
        "def exemple_2(i):\n",
        "    \"\"\"\n",
        "    Avec i compris entre 01 et nombres d'exemple\n",
        "    \"\"\"\n",
        "\n",
        "    if i == 1:\n",
        "        triangle1 = [[[(1,200.5,10),2,(255,0,0)],[(50,2,3),1,(0,255,0)],[(250,300,20),3,(0,0,255)]],[2,0.5,1],[1,2,3],[90,0,0]]\n",
        "        triangle2 = [[[(100,100,15),2,(255,255,0)],[(300,5,5),1,(0,255,255)],[(280,400,2),3,(255,0,255)]],[1,0.5,1],[2,2,3],[0,90,0]]\n",
        "        camera = [[1,1,1],[0,5,0],[0,0,180],100,1,100]\n",
        "        image = [1080,960,(0,0,0),\"out1.ppm\"]\n",
        "        rasterisation([triangle1,triangle2],camera,image)\n",
        "\n",
        "    if i == 2:\n",
        "        triangle1 = [[[(1,200.5,10),2,(255,0,0)],[(50,2,3),1,(0,255,0)],[(250,300,20),3,(0,0,255)]],[2,0.5,1],[1,2,3],[90,0,0]]\n",
        "        camera = [[1,1,1],[0,5,0],[0,0,180],100,1,100]\n",
        "        image = [1080,960,(0,0,0),\"out2.ppm\"]\n",
        "        rasterisation([triangle1],camera,image)\n",
        "        \n",
        "    if i == 3:\n",
        "        triangle1 = [[[(1,200,10),2,(255,0,0)],[(-50,2,3),1,(0,255,0)],[(250,300,20),3,(0,0,255)]],[0.1,0.1,0.1],[1,2,3],[90,0,0]]\n",
        "        triangle2 = [[[(100,100,15),2,(255,0,0)],[(300,5,5),1,(0,255,0)],[(280,400,2),3,(0,0,255)]],[0.5,0.1,0.1],[-50,2,3],[0,90,0]]\n",
        "        camera = [[1,1,1],[0,5,0],[0,0,180],90,1,100]\n",
        "        image = [500,250,(150,150,150),\"out3.ppm\"]\n",
        "        rasterisation([triangle1,triangle2],camera,image)\n",
        "        \n",
        "    if i == 4:\n",
        "        triangle1 = [[[(1,200,10),2,(255,0,0)],[(-50,2,3),1,(0,255,0)],[(250,300,20),3,(0,0,255)]],[0.1,0.1,0.1],[1,2,3],[90,0,0]]\n",
        "        triangle2 = [[[(100,100,15),2,(255,0,0)],[(300,5,5),1,(0,255,0)],[(280,400,2),3,(0,0,255)]],[0.5,0.1,0.1],[-50,2,3],[0,90,0]]\n",
        "        camera = [[1,1,1],[0,5,0],[0,0,180],100,1,100]\n",
        "        image = [500,250,(150,150,150),\"out4.ppm\"]\n",
        "        rasterisation([triangle1,triangle2],camera,image)\n",
        "        \n",
        "    if i == 5:\n",
        "        triangle1 = [[[(1,200,10),2,(255,0,0)],[(-50,2,3),1,(0,255,0)],[(250,300,20),3,(0,0,255)]],[0.1,0.1,0.1],[1,2,3],[90,0,0]]\n",
        "        triangle2 = [[[(100,100,15),2,(255,0,0)],[(300,5,5),1,(0,255,0)],[(280,400,2),3,(0,0,255)]],[0.5,0.1,0.1],[-50,2,3],[0,90,0]]\n",
        "        camera = [[1,1,1],[0,5,0],[0,0,180],110,1,100]\n",
        "        image = [500,250,(150,150,150),\"out5.ppm\"]\n",
        "        rasterisation([triangle1,triangle2],camera,image)\n",
        "        \n",
        "    if i == 6:\n",
        "        triangle1 = [[[(1,200.5,10),2,(255,0,0)],[(50,2,3),1,(0,255,0)],[(250,300,20),3,(0,0,255)]],[2,0.5,1],[-10,2,3],[90,0,0]]\n",
        "        triangle2 = [[[(100,100,15),2,(255,255,0)],[(300,5,5),1,(0,255,255)],[(280,400,2),3,(255,0,255)]],[1,0.5,1],[-50,2,3],[0,90,0]]\n",
        "        triangle3 = [[[(-50,500,-5),2,(220,220,220)],[(-40,10,5),1,(255,255,255)],[(200,200,100),3,(20,20,20)]],[1,0.5,1],[0,0,0],[-300,0,0]]\n",
        "        camera = [[1,1,1],[0,0,0],[0,0,0],110,1,100]\n",
        "        image = [1080,960,(0,0,0),\"out6.ppm\"]\n",
        "        rasterisation([triangle1,triangle2,triangle3],camera,image)\n",
        "\n",
        "        triangle1 = [[[(1,200.5,10),2,(255,0,0)],[(50,2,3),1,(0,255,0)],[(250,300,20),3,(0,0,255)]],[2,0.5,1],[-10,2,3],[90,0,0]]\n",
        "        triangle2 = [[[(100,100,15),2,(255,255,0)],[(300,5,5),1,(0,255,255)],[(280,400,2),3,(255,0,255)]],[1,0.5,1],[-50,2,3],[0,90,0]]\n",
        "        triangle3 = [[[(-50,500,-5),2,(220,220,220)],[(-40,10,5),1,(255,255,255)],[(200,200,100),3,(20,20,20)]],[1,0.5,1],[0,0,180],[-300,0,0]]\n",
        "        camera = [[1,1,1],[0,0,0],[0,0,0],110,1,100]\n",
        "        image = [1080,960,(0,0,0),\"out6-1.ppm\"]\n",
        "        rasterisation([triangle1,triangle2,triangle3],camera,image)\n",
        "\n",
        "        triangle1 = [[[(1,200.5,10),2,(255,0,0)],[(50,2,3),1,(0,255,0)],[(250,300,20),3,(0,0,255)]],[2,0.5,1],[-10,2,3],[90,0,0]]\n",
        "        triangle2 = [[[(100,100,15),2,(255,255,0)],[(300,5,5),1,(0,255,255)],[(280,400,2),3,(255,0,255)]],[1,0.5,1],[-50,2,3],[0,90,0]]\n",
        "        triangle3 = [[[(-50,500,-5),2,(220,220,220)],[(-40,10,5),1,(255,255,255)],[(200,200,1000),3,(20,20,20)]],[1,0.5,1],[0,0,0],[100,0,0]]\n",
        "        camera = [[1,1,1],[0,0,0],[0,0,0],110,1,100]\n",
        "        image = [1080,960,(0,0,0),\"out6-2.ppm\"]\n",
        "        rasterisation([triangle1,triangle2,triangle3],camera,image)\n",
        "\n",
        "        triangle1 = [[[(1,200.5,10),2,(255,0,0)],[(50,2,3),1,(0,255,0)],[(250,300,20),3,(0,0,255)]],[2,0.5,1],[-10,2,3],[90,0,0]]\n",
        "        triangle2 = [[[(100,100,15),2,(255,255,0)],[(300,5,5),1,(0,255,255)],[(280,400,2),3,(255,0,255)]],[1,0.5,1],[-50,2,3],[0,90,0]]\n",
        "        triangle3 = [[[(-50,500,-5),2,(220,220,220)],[(-40,10,5),1,(255,255,255)],[(200,200,500),3,(20,20,20)]],[1,0.5,1],[0,0,0],[200,0,0]]\n",
        "        camera = [[1,1,1],[0,0,0],[0,0,0],110,1,100]\n",
        "        image = [1080,960,(0,0,0),\"out6-3.ppm\"]\n",
        "        rasterisation([triangle1,triangle2,triangle3],camera,image)\n",
        "\n",
        "        triangle1 = [[[(1,200.5,10),2,(255,0,0)],[(50,2,3),1,(0,255,0)],[(250,300,20),3,(0,0,255)]],[2,0.5,1],[-10,2,3],[90,0,0]]\n",
        "        triangle2 = [[[(100,100,15),2,(255,255,0)],[(300,5,5),1,(0,255,255)],[(280,400,2),3,(255,0,255)]],[1,0.5,1],[-50,2,3],[0,0,0]]\n",
        "        triangle3 = [[[(-50,500,-5),2,(220,220,220)],[(-40,10,5),1,(255,255,255)],[(200,200,500),3,(20,20,20)]],[1,0.5,1],[0,0,0],[200,0,0]]\n",
        "        camera = [[1,1,1],[0,0,0],[50,0,0],110,1,100]\n",
        "        image = [1080,960,(0,0,0),\"out6-4.ppm\"]\n",
        "        rasterisation([triangle1,triangle2,triangle3],camera,image)\n",
        "\n",
        "        triangle1 = [[[(1,200.5,10),2,(255,0,0)],[(50,2,3),1,(0,255,0)],[(250,300,20),3,(0,0,255)]],[2,0.5,1],[-10,2,3],[90,0,0]]\n",
        "        triangle2 = [[[(100,100,15),2,(255,255,0)],[(300,5,5),1,(0,255,255)],[(280,400,2),3,(255,0,255)]],[1,0.5,1],[-50,2,3],[0,180,0]]\n",
        "        triangle3 = [[[(-50,500,-5),2,(220,220,220)],[(-40,10,5),1,(255,255,255)],[(200,200,500),3,(20,20,20)]],[1,0.5,1],[0,0,0],[200,0,0]]\n",
        "        camera = [[1,1,1],[0,20,0],[0,0,0],110,1,100]\n",
        "        image = [1080,960,(0,0,0),\"out6-5.ppm\"]\n",
        "        rasterisation([triangle1,triangle2,triangle3],camera,image)\n",
        "\n",
        "    if i == 7:\n",
        "        triangle1 = [[[(1,200.5,10),2,(255,0,0)],[(50,2,3),1,(0,255,0)],[(250,300,20),3,(0,0,255)]],[2,0.5,1],[-10,2,3],[90,0,0]]\n",
        "        triangle2 = [[[(100,100,15),2,(255,255,0)],[(300,5,5),1,(0,255,255)],[(280,400,2),3,(255,0,255)]],[1,0.5,1],[-50,2,3],[0,90,0]]\n",
        "        triangle3 = [[[(-50,500,-5),2,(255,255,0)],[(-40,10,5),1,(0,255,255)],[(200,200,100),3,(255,0,255)]],[1,0.5,1],[2,2,3],[0,90,0]]\n",
        "        camera = [[1,1,1],[0,0,180],[0,0,0],110,1,100]\n",
        "        image = [1080,960,(0,0,0),\"out7.ppm\"]\n",
        "        rasterisation([triangle1,triangle2,triangle3],camera,image)\n",
        "    if i == 8:\n",
        "        triangle1 = [[[(0,400,0),2,(255,255,0)],[(0,0,0),1,(0,255,0)],[(200,400,0),3,(0,255,255)]],[2,1,1],[0,0,0],[0,0,0]]\n",
        "        triangle2 = [[[(200,400,0),2,(255,255,0)],[(0,0,0),1,(0,255,255)],[(200,0,0),3,(255,0,255)]],[2,1,1],[0,0,0],[0,0,0]]\n",
        "        camera = [[1,1,1],[0,0,0],[0,0,0],90,1,100]\n",
        "        image = [1080,960,(255,225,225),\"out8.ppm\"]\n",
        "        rasterisation([triangle1,triangle2],camera,image)\n",
        "        \n",
        "    if i == 9:\n",
        "        dt = [200,200,200]\n",
        "        rt = [0,0,0]\n",
        "        tt = [0,0,0]\n",
        "        r = (255,0,0,127)\n",
        "        v = (0,255,0,127)\n",
        "        b = (0,0,255,127)\n",
        "        c = (0,255,255)\n",
        "        m = (255,0,255)\n",
        "        j = (255,255,0)\n",
        "        triangle1 = [[[(-1,-1,1),1,r],[(-1,1,1),2,r],[(1,1,1),3,r]],dt,rt,tt]\n",
        "        triangle2 = [[[(-1,-1,1),1,r],[(1,1,1),2,r],[(1,-1,1),3,r]],dt,rt,tt]\n",
        "\n",
        "        triangle3 = [[[(-1,1,1),1,v],[(-1,1,-1),2,v],[(1,1,1),3,v]],dt,rt,tt]\n",
        "        triangle4 = [[[(-1,1,-1),1,v],[(1,1,-1),2,v],[(1,1,1),3,v]],dt,rt,tt]\n",
        "\n",
        "        triangle5 = [[[(1,-1,1),1,b],[(1,1,1),2,b],[(1,1,-1),3,b]],dt,rt,tt]\n",
        "        triangle6 = [[[(1,-1,-1),1,b],[(1,-1,1),2,b],[(1,1,-1),3,b]],dt,rt,tt]\n",
        "\n",
        "        triangle7 = [[[(-1,-1,-1),1,c],[(-1,1,1),2,c],[(-1,-1,1),3,c]],dt,rt,tt]\n",
        "        triangle8 = [[[(-1,-1,-1),1,c],[(-1,1,-1),2,c],[(-1,1,1),3,c]],dt,rt,tt]\n",
        "\n",
        "        triangle9 = [[[(-1,-1,-1),1,m],[(-1,-1,1),2,m],[(1,-1,1),3,m]],dt,rt,tt]\n",
        "        triangle10 = [[[(-1,-1,-1),1,m],[(1,-1,1),2,m],[(1,-1,-1),3,m]],dt,rt,tt]\n",
        "\n",
        "        triangle11 = [[[(1,-1,-1),1,j],[(1,1,-1),2,j],[(-1,1,-1),3,j]],dt,rt,tt]\n",
        "        triangle12 = [[[(1,-1,-1),1,j],[(-1,1,-1),2,j],[(-1,-1,-1),3,j]],dt,rt,tt]\n",
        "\n",
        "        cube = [triangle1,triangle2,triangle3,triangle4,triangle5,triangle6,triangle7,triangle8,triangle9,triangle10,triangle11,triangle12]\n",
        "        camera = [[1,1,1],[-20,20,0],[0,0,0],110,1,100]\n",
        "        image = [1080,960,(0,0,0),\"out9.ppm\"]\n",
        "        rasterisation(cube,camera,image)\n",
        "    return \"Rendu terminé\"\n"
      ],
      "metadata": {
        "id": "WRc22oGygjCw"
      },
      "execution_count": 35,
      "outputs": []
    },
    {
      "cell_type": "code",
      "source": [
        "import cv2\n",
        "import matplotlib.pyplot as plt\n",
        "for i in range(9):\n",
        "    i=i+1\n",
        "    exemple_2(i)\n",
        "    img = cv2.imread(f\"out{i}.ppm\")\n",
        "    img = cv2.cvtColor(img,cv2.COLOR_BGR2RGB)\n",
        "    plt.imshow(img)\n",
        "    plt.show()\n"
      ],
      "metadata": {
        "colab": {
          "base_uri": "https://localhost:8080/",
          "height": 1000
        },
        "id": "GG1bzTMhhNNZ",
        "outputId": "616f4692-1b88-4728-b39c-057c22a531e8"
      },
      "execution_count": 36,
      "outputs": [
        {
          "output_type": "display_data",
          "data": {
            "text/plain": [
              "<Figure size 432x288 with 1 Axes>"
            ],
            "image/png": "[encoded data removed]"
          },
          "metadata": {
            "needs_background": "light"
          }
        },
        {
          "output_type": "display_data",
          "data": {
            "text/plain": [
              "<Figure size 432x288 with 1 Axes>"
            ],
            "image/png": "[encoded data removed]"
          },
          "metadata": {
            "needs_background": "light"
          }
        },
        {
          "output_type": "display_data",
          "data": {
            "text/plain": [
              "<Figure size 432x288 with 1 Axes>"
            ],
            "image/png": "[encoded data removed]"
          },
          "metadata": {
            "needs_background": "light"
          }
        },
        {
          "output_type": "display_data",
          "data": {
            "text/plain": [
              "<Figure size 432x288 with 1 Axes>"
            ],
            "image/png": "[encoded data removed]"
          },
          "metadata": {
            "needs_background": "light"
          }
        },
        {
          "output_type": "display_data",
          "data": {
            "text/plain": [
              "<Figure size 432x288 with 1 Axes>"
            ],
            "image/png": "[encoded data removed]"
          },
          "metadata": {
            "needs_background": "light"
          }
        },
        {
          "output_type": "display_data",
          "data": {
            "text/plain": [
              "<Figure size 432x288 with 1 Axes>"
            ],
            "image/png": "[encoded data removed]"
          },
          "metadata": {
            "needs_background": "light"
          }
        },
        {
          "output_type": "display_data",
          "data": {
            "text/plain": [
              "<Figure size 432x288 with 1 Axes>"
            ],
            "image/png": "[encoded data removed]"
          },
          "metadata": {
            "needs_background": "light"
          }
        },
        {
          "output_type": "display_data",
          "data": {
            "text/plain": [
              "<Figure size 432x288 with 1 Axes>"
            ],
            "image/png": "[encoded data removed]"
          },
          "metadata": {
            "needs_background": "light"
          }
        },
        {
          "output_type": "display_data",
          "data": {
            "text/plain": [
              "<Figure size 432x288 with 1 Axes>"
            ],
            "image/png": "[encoded data removed]"
          },
          "metadata": {
            "needs_background": "light"
          }
        }
      ]
    }
  ]
}